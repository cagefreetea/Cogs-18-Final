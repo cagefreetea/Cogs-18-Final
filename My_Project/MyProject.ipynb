{
 "cells": [
  {
   "cell_type": "code",
   "execution_count": 1,
   "metadata": {},
   "outputs": [],
   "source": [
    "#Allows one to receive recommendations of food choices based on given location/city. \n",
    "#A lot of times people are stuck on trying to make decisions on where to eat.\n",
    "#I thought of making this bot so that it would help make those decisions for you based on where you are."
   ]
  },
  {
   "cell_type": "code",
   "execution_count": 2,
   "metadata": {},
   "outputs": [],
   "source": [
    "from my_module.recommend_functions import *"
   ]
  },
  {
   "cell_type": "code",
   "execution_count": 3,
   "metadata": {},
   "outputs": [],
   "source": [
    "API_KEY= '_axJRffwq6smSqC34oVV4shz-8B8Yj4qIUniLyPJoMxH4C7QrKmxE8BJFe627O5unS2U2naCDx8lY9PnTKerwUTs4Tdi0SFPLMgZc0WRORX6ddkBUiIO1cZKtIjxXXYx'\n",
    "API_URL = 'https://api.yelp.com/v3/businesses/search'"
   ]
  },
  {
   "cell_type": "code",
   "execution_count": null,
   "metadata": {},
   "outputs": [],
   "source": [
    "debug = False\n",
    "location = input(\"Where are you?\")\n",
    "results = search(API_URL, API_KEY, 'restaurant', location)\n",
    "\n",
    "debug_mode = input(\"Debug mode?\")\n",
    "if (debug_mode.lower() == \"yes\") or (debug_mode.lower() == \"y\"):\n",
    "    debug = True\n",
    "    \n",
    "while True:\n",
    "    categories = get_categories(results)\n",
    "    cat, rest = recommend(categories, results) #categories, restuarants not to be confused with results\n",
    "    print(rest['name'] + '\\n' \n",
    "        + \"Category: \" + rest['categories'][0]['title'] + '\\n' + rest['url'] + '\\n' * 2 \n",
    "        + \"(N)ext Recommendation, (R)emove Last Category?\")\n",
    "    if debug:\n",
    "        print(rest)\n",
    "\n",
    "    next_rec = input() #next recommendation\n",
    "    \n",
    "    if (next_rec.lower() == \"n\") or (next_rec.lower() == \"next\"):\n",
    "        continue\n",
    "        \n",
    "    elif (next_rec.lower() == \"r\") or (next_rec.lower() == \"remove\"):\n",
    "        rec.remove_category(categories, rest['categories'][0]['title'])\n",
    "        \n",
    "    else:\n",
    "        break"
   ]
  },
  {
   "cell_type": "code",
   "execution_count": null,
   "metadata": {},
   "outputs": [],
   "source": [
    "#Extra Credit Proposal\n",
    "#Researched yelp API documentation and had to parse the responses\n",
    "#Implemented an algorithm to get unique categories, etc."
   ]
  }
 ],
 "metadata": {
  "kernelspec": {
   "display_name": "Python 3",
   "language": "python",
   "name": "python3"
  },
  "language_info": {
   "codemirror_mode": {
    "name": "ipython",
    "version": 3
   },
   "file_extension": ".py",
   "mimetype": "text/x-python",
   "name": "python",
   "nbconvert_exporter": "python",
   "pygments_lexer": "ipython3",
   "version": "3.6.7"
  }
 },
 "nbformat": 4,
 "nbformat_minor": 2
}
